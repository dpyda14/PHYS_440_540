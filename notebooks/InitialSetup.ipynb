{
 "cells": [
  {
   "cell_type": "markdown",
   "metadata": {
    "slideshow": {
     "slide_type": "slide"
    }
   },
   "source": [
    "# Gettings Started\n",
    "\n",
    "G. Richards\n",
    "(2016, 2018, 2020, 2022)\n",
    "This notebook contains most everything that we need to get started.  It draws heavily from classes taught by Zeljko Ivezic and Mario Juric, Andy Connolly (http://connolly.github.io/introAstroML/) and Karen Leighly ([seminar.ouml.org](http://seminar.ouml.org)).  With updates to my own class from [Stephen Taylor's class at Vanderbilt](https://github.com/VanderbiltAstronomy/astr_8070_s22)."
   ]
  },
  {
   "cell_type": "markdown",
   "metadata": {
    "slideshow": {
     "slide_type": "slide"
    }
   },
   "source": [
    "## Contents\n",
    "\n",
    "* [Git and GitHub](#one)\n",
    "* [Setting up your computer](#two)\n",
    "* [Getting Started with Python](#three)\n",
    "* [Working with Jupyter Notebooks](#four)\n",
    "* [Review of Python, Numpy, Scipy, Matplotlib, and Pandas](#five)\n",
    "* [Practice with Git](#six)\n",
    "* [Class Participation](#seven)"
   ]
  },
  {
   "cell_type": "markdown",
   "metadata": {
    "slideshow": {
     "slide_type": "slide"
    }
   },
   "source": [
    "## Git and Github  <a class=\"anchor\" id=\"one\"></a>\n",
    "\n",
    "We will use a version control system tool called `git`, and an internet service called [GitHub](http://github.com), that will let you download the notebooks (like this one!) that I will put into the class repository before each class.\n",
    "\n",
    "If you don't have one already, make an account on [GitHub](https://github.com/), where you can create your own repositories. Let's pause and make sure we all have a github account first!"
   ]
  },
  {
   "cell_type": "markdown",
   "metadata": {
    "slideshow": {
     "slide_type": "slide"
    }
   },
   "source": [
    "## Git\n",
    "To get Git for any platform, see: [https://git-scm.com/download/](https://git-scm.com/download/).\n",
    "\n",
    "If you're using a Mac, you'll have `git` installed already. Open a terminal window and run\n",
    "\n",
    "    $ which git\n",
    "\n",
    "For example:\n",
    "\n",
    "```\n",
    "$ which git\n",
    "/usr/bin/git\n",
    "\n",
    "$ git --version\n",
    "git version 2.18.0\n",
    "```\n",
    "\n",
    "Let's pause and make sure we all have git installed."
   ]
  },
  {
   "cell_type": "markdown",
   "metadata": {
    "slideshow": {
     "slide_type": "slide"
    }
   },
   "source": [
    "## Forking+Cloning the class repository\n",
    "\n",
    "Once Git is installed, make a place where you are going to put the class repository.  Perhaps in a git subdirectory if you think that you might use more repositories later (we might even for this class!).  \n",
    "```\n",
    "$ cd ~\n",
    "$ mkdir git\n",
    "$ cd git\n",
    "```\n",
    "\n",
    "Now we need to \"fork\" the class repository into your account ([instructions](https://docs.github.com/en/get-started/quickstart/fork-a-repo)). Now you have a saved and easily accessible copy of the class repository. Next, we need to \"clone\" (make a local copy of) your forked repository with\n",
    "\n",
    "```\n",
    "$ git clone https://github.com/{YOUR_GITHUB_USERNAME}/PHYS_440_540.git\n",
    "```    \n",
    "\n",
    "where `YOUR_GITHUB_USERNAME` is your github username. This will make a subdirectory called `PHYS_440_540` in which you will see a file called `InitialSetup.ipynb` (which is the file that you are reading now!).  See below for how to open this (and other notebooks) using [Jupyter](http://jupyter.org/).\n",
    "\n",
    "Before proceeding further, you also need to set the original class repository as the 'upstream', so that you can get the lastest changes before each class. Now do the following\n",
    "\n",
    "```\n",
    "$ cd PHYS_440_550\n",
    "$ git remote add upstream https://github.com/gtrichards/PHYS_440_540.git\n",
    "$ git remote set-url --push upstream DISABLE\n",
    "```\n",
    "\n",
    "**Before each class**, you will want to update this repository so that you get any new files that we have put there for you. Do that with\n",
    "\n",
    "```\n",
    "$ cd ~/git/PHYS_440_540\n",
    "$ git fetch upstream\n",
    "$ git checkout master\n",
    "$ git merge upstream/master\n",
    "```\n",
    "\n",
    "### Tips:\n",
    "1. To avoid unneccesary merging conflicts involving executed jupyter notebooks, try not to excecute/save/commit corresponding class notebooks in the master branch before the actual class. Feel free to do it in a separate [branch](https://git-scm.com/book/en/v2/Git-Branching-Basic-Branching-and-Merging).  If you need help with branches, see [Chapter 4 of DataCamp's Introduction to Git lesson](https://app.datacamp.com/learn/courses/introduction-to-git).  \n",
    "2. If you happened to execute/save any class notebooks ahead of the schedule, you can run the following command can get back to the last commit before syncing your repository with the class repository.  (Move any changes that you want saved to another folder if you don't want to lose your work!)\n",
    "\n",
    "```\n",
    "$ git reset --hard\n",
    "```"
   ]
  },
  {
   "cell_type": "markdown",
   "metadata": {
    "slideshow": {
     "slide_type": "slide"
    }
   },
   "source": [
    "## Setting Up Your Computer  <a class=\"anchor\" id=\"two\"></a>\n",
    "\n",
    "Everyone will need to have the proper software environment in order to be able to participate in the course.  These instructions have been tested on my Mac laptop, but should work for other platforms as well.\n",
    "\n",
    "The software requirements (or at least what I am currently running) are as follows:\n",
    "    Anaconda Python 3.9.X"
   ]
  },
  {
   "cell_type": "code",
   "execution_count": 1,
   "metadata": {
    "slideshow": {
     "slide_type": "slide"
    }
   },
   "outputs": [
    {
     "name": "stdout",
     "output_type": "stream",
     "text": [
<<<<<<< HEAD
<<<<<<< HEAD
      "python version  3.8.5  core programming language\n",
      "numpy version  1.19.2  efficient array operations\n",
      "scipy version  1.5.2  scientific computing tools\n",
      "matplotlib version  3.3.2  plotting and visualization\n",
      "sklearn version  0.23.2  machine learning\n"
=======
=======
>>>>>>> upstream/master
      "python version  3.9.12  core programming language\n",
      "numpy version  1.23.4  efficient array operations\n",
      "scipy version  1.9.3  scientific computing tools\n",
      "matplotlib version  3.5.1  plotting and visualization\n",
      "sklearn version  1.0.2  machine learning\n"
<<<<<<< HEAD
>>>>>>> upstream/master
=======
>>>>>>> upstream/master
     ]
    }
   ],
   "source": [
    "from platform import python_version\n",
    "import numpy\n",
    "import scipy\n",
    "import matplotlib\n",
    "import sklearn\n",
    "\n",
    "print(\"python version \",python_version(), \" core programming language\")\n",
    "print(\"numpy version \",numpy.__version__, \" efficient array operations\")\n",
    "print(\"scipy version \",scipy.__version__, \" scientific computing tools\")\n",
    "print(\"matplotlib version \",matplotlib.__version__, \" plotting and visualization\")\n",
    "print(\"sklearn version \",sklearn.__version__, \" machine learning\")"
   ]
  },
  {
   "cell_type": "markdown",
   "metadata": {
    "slideshow": {
     "slide_type": "slide"
    }
   },
   "source": [
    "### Anaconda Installation\n",
    "\n",
    "If you already have Anaconda Python installed on your machine, then please skip to the next section.\n",
    "\n",
    "If you **don’t** already have Anaconda Python 3.8.X, then go to \n",
    "https://www.anaconda.com/download/\n",
    "and download the installer of your choice (e.g., the graphical OSX installer).  Don't worry--it's free.\n",
    "\n",
    "Open the install package and follow the instructions, installing **for you only**.\n",
    "\n",
    "Open a **new** terminal window, and make sure your $PATH variable points to the Anaconda installation. You can do this by typing\n",
    "\n",
    "    [~]$ which python\n",
    "\n",
    "The result should show the path to the newly-installed anaconda folder. If not, you must modify your $PATH variable to point to the anaconda directory as follows:"
   ]
  },
  {
   "cell_type": "markdown",
   "metadata": {
    "slideshow": {
     "slide_type": "subslide"
    }
   },
   "source": [
    "### Add Anaconda Python to the path \n",
    "\n",
    "How to do this depends on whether you use BASH or TCSH (if you don't know what that means, you are probably using BASH).\n",
    "\n",
    "I use TCSH, so I added the following line to my .tcshrc file:                                                                                                                                \n",
    "    set path=(/Users/gtr/opt/anaconda3/bin $path)\n",
    "\n",
    "If you use BASH instead, you’ll have to add the following line to your .bash_profile\n",
    "    \n",
    "    export PATH=\"$HOME/opt/anaconda3/bin:$PATH\"\n",
    "\n",
    "\n",
    "For good measure (since I have about 12 python installations on my computer), I usually create an alias for Anaconda python in my `.tcshrc` file so that I know that I’m starting that particular python if I’m using the command line.  See also the instruction below for creating different python *environments*.\n",
    "\n",
    "    alias apython '/Users/gtr/opt/anaconda3/bin/python'\n",
    "    \n",
    "The syntax is slightly different for BASH users.  Ask your friends for help.\n",
    "\n",
    "\n",
    "Now either close that terminal window and open a new one and type\n",
    "\n",
    "    [~]$ which python\n",
    "\n",
    "Hopefully all is well now."
   ]
  },
  {
   "cell_type": "markdown",
   "metadata": {
    "slideshow": {
     "slide_type": "subslide"
    }
   },
   "source": [
    "### Update your Anaconda distribution\n",
    "\n",
    "    [~]$ conda update conda\n",
    "\n",
    "Conda is the package management system that comes with anaconda.  **Do this once a week.**\n",
    "\n",
    "\n",
    "I’m currently running Python 3.9.12 via conda-4.14.0.  You don’t have to be doing *exactly* the same, but if you run into problems that I am not having, that would be a good place to start debugging.\n",
    "\n",
    "Conda will have installed most of the other software packages listed above.   The exceptions are noted below."
   ]
  },
  {
   "cell_type": "markdown",
   "metadata": {
    "slideshow": {
     "slide_type": "slide"
    }
   },
   "source": [
    "### Python2 vs. Python3\n",
    "\n",
    "<font color='red'>Hopefully the information in this cell is no longer an issue and you can ignore it, but leaving it here for 2022 just in case.</font> \n",
    "\n",
    "Things are are bit confusing with Python right now while everyone makes the transition to Python3.  For the most part that already has happened as of the start of 2020.  However, to avoid any related problems as much as possible (e.g., if some legacy code won't run because we are trying to use Python3), it might help to set up some Python *environments*.  To see what current (Anaconda python) environments you have, type:\n",
    "\n",
    "    [~]$ conda env list\n",
    "    \n",
    "If you want to be able to run both Python2 and Python3, then you can make separate environments (in addition to our Python3 \"base\") with   \n",
    "    \n",
    "    [~]$ conda create --name py27 python=2.7\n",
    "    \n",
    "    [~]$ conda create --name py38 python=3.8\n",
    "\n",
    "To activate these environments (which means overriding the default when you start Python), we need to activate them.  \n",
    "\n",
    "BASH users:\n",
    "\n",
    "    [~]$ source activate py38\n",
    "    \n",
    "    [~]$ source deactivate\n",
    "    \n",
    "\n",
    "TCSH (start BASH first)\n",
    "\n",
    "    [~]$ sh\n",
    "   \n",
    "    sh-3.2$ source activate py38\n",
    "    \n",
    "    sh-3.2$ source deactivate\n",
    "\n",
    "If you think that different versions of Python are going to be an issue for you, then please create a new environment to use for class.  If you do that, you'll have to make sure that you are installing software, opening notebooks, etc, from within that environment.  \n",
    "\n",
    "If you haven't installed Python before or are happy to be forced by this class to use the latest version, then you don't need to worry about environments.  You can just work with the \"base\" (default)."
   ]
  },
  {
   "cell_type": "markdown",
   "metadata": {
    "slideshow": {
     "slide_type": "slide"
    }
   },
   "source": [
    "### Installing astroML\n",
    "\n",
    "[astroML](http://www.astroml.org/) is the software library that goes together with [the textbook](https://press.princeton.edu/books/hardcover/9780691198309/statistics-data-mining-and-machine-learning-in-astronomy).  Much of it is a series of wrappers to [scikit-learn](http://scikit-learn.org/), where Jake VanderPlas is one of the main contributors to each.  Jake has written an [Intro to AstroML](https://ieeexplore.ieee.org/document/6382200) paper that is worth going through to give you an idea of the sorts of things that we'll be doing in the class.\n",
    "\n",
    "AstroML requires `scikit-learn`. Let's install that first using **conda**:\n",
    "\n",
    "```bash\n",
    "$ conda install scikit-learn\n",
    "```\n",
    "\n",
    "We'll install the bleeding edge version of `astroML` from github, using **pip** (the python package installer):\n",
    "\n",
    "```bash\n",
    "$ pip3 install git+https://github.com/astroML/astroML\n",
    "```\n",
    "\n",
    "and same for the add-on packages:\n",
    "\n",
    "```bash\n",
    "$ pip3 install git+https://github.com/astroML/astroML_addons\n",
    "```"
   ]
  },
  {
   "cell_type": "markdown",
   "metadata": {
    "slideshow": {
     "slide_type": "slide"
    }
   },
   "source": [
    "### Installing other things\n",
    "\n",
    "We'll need a few other packages installed as we go along.  Here are the ones that I remembered to write down.  You can either install them now, or you can do it later (when you get an error message!).\n",
    "\n",
    "    [~]$ conda install -c astropy astroquery\n",
    "    \n",
    "    [~]$ pip3 install corner\n",
    "    \n",
    "With all of those things installed, let's check the version of everything again."
   ]
  },
  {
   "cell_type": "code",
   "execution_count": 5,
   "metadata": {
    "slideshow": {
     "slide_type": "slide"
    }
   },
   "outputs": [
    {
     "name": "stdout",
     "output_type": "stream",
     "text": [
      "python version  3.8.5  core programming language\n",
      "numpy version  1.19.2  efficient array operations\n",
      "scipy version  1.5.2  scientific computing tools\n",
      "matplotlib version  3.3.2  plotting and visualization\n",
      "sklearn version  0.23.2  machine learning\n",
      "astroML version  1.0.2  astronomical machine learning toolkit\n"
     ]
    }
   ],
   "source": [
    "from platform import python_version\n",
    "import numpy\n",
    "import scipy\n",
    "import matplotlib\n",
    "import sklearn\n",
    "import astroML\n",
    "\n",
    "print(\"python version \",python_version(), \" core programming language\")\n",
    "print(\"numpy version \",numpy.__version__, \" efficient array operations\")\n",
    "print(\"scipy version \",scipy.__version__, \" scientific computing tools\")\n",
    "print(\"matplotlib version \",matplotlib.__version__, \" plotting and visualization\")\n",
    "print(\"sklearn version \",sklearn.__version__, \" machine learning\")\n",
    "print(\"astroML version \",astroML.__version__, \" astronomical machine learning toolkit\")"
   ]
  },
  {
   "cell_type": "markdown",
   "metadata": {
    "slideshow": {
     "slide_type": "slide"
    }
   },
   "source": [
    "## Getting Started with Python  <a class=\"anchor\" id=\"three\"></a>\n",
    "\n",
    "The course requirements were set up up to ensure that you have at least *some* (extended) experience with Python.  E.g., you might have taken the 113-114-115 series.  If you don't know *any* Python at all, this class may be pretty tough going.  However, many of you might need a refresher.  A good place to start is **Appendix A** (more specifically A3) in the [textbook](https://press.princeton.edu/books/hardcover/9780691198309/statistics-data-mining-and-machine-learning-in-astronomy).  \n",
    "\n",
    "In this course, we will be taking advantage of the very nice tools developed by the folks at [DataCamp](https://www.datacamp.com/).  You will all be given access to DataCamp by virtue of being enrolled in this course.  As a result you will actually have access to their full library for 6 months.  If you need a Python refresher, I suggest that you work through their [Intro to Python for Data Science](https://www.datacamp.com/courses/intro-to-python-for-data-science) and [Intermediate Python for Data Science](https://www.datacamp.com/courses/intermediate-python-for-data-science); indeed you'll do one of these for Homework 1.\n",
    "\n",
    "I would also recommend the [codecademy](https://www.codecademy.com/) course on Python.  It is free and does a good job of walking you through things that you need to learn.\n",
    "\n",
    "You might also be interested in [A Student’s Guide to Python for Physical Modeling](https://press.princeton.edu/books/hardcover/9780691219288/a-students-guide-to-python-for-physical-modeling): Chapters 1-3 provide a good introduction to Python before getting into the \"physical modeling\" part.  It encourages the use of **spyder**, which is a matlab-like interactive interface for Python (if you'd prefer that sort of interface).\n",
    "\n",
    "Lastly, from Jake VanderPlas (a contributor to astroML and a co-author of our textbook):\n",
    "\n",
    "- [A Whirlwind Tour of Python](https://www.oreilly.com/library/view/a-whirlwind-tour/9781492037859/).  Note that you can access the entire [O'Reilly libarary](http://ezproxy2.library.drexel.edu/login?url=https://www.safaribooksonline.com/library/view/temporary-access/?orpq&email=^u) for free with your Drexel login.\n",
    "- [Python Data Science Handbook](https://jakevdp.github.io/PythonDataScienceHandbook/index.html)"
   ]
  },
  {
   "cell_type": "markdown",
   "metadata": {
    "slideshow": {
     "slide_type": "slide"
    }
   },
   "source": [
    "### Interfacing with Python\n",
    "\n",
    "You can interface with Python by 1) starting it on the command line: \n",
    "\n",
    "    $ python\n",
    "    \n",
    "or 2) using a web-based interactive interface [Jupyter](http://jupyter.org/).\n",
    "\n",
    "We'll be using the latter.  In fact, each lecture will be in the form of a [jupyter notebook](http://jupyter.org/) that you'll download from the github repository before the start of each class.  \n",
    "\n",
    "To start the notebook app, run:\n",
    "\n",
    "    $ jupyter notebook &\n",
    "    \n",
    "This will pop up a web page in your default browser and show the Dashboard where you can navigate to a particular notebook or open a new one.  You can also open a notebook directly with \n",
    "\n",
    "    $ jupyter notebook InitialSetup.ipynb &\n",
    "   \n",
    "If you are creating a new notebook, click on 'new' at the top-right of the page and select 'python'.\n",
    "\n",
    "For class, I recommend that you first copy each notebook, appending your name to the file.  That way you aren't editing the original and you'll have a version that you can turn in (for the sake of attendance).  For example,\n",
    "\n",
    "    $cp InitialSetup.ipynb InitialSetup_FirstnameLastname.ipynb\n",
    "    \n",
    "And then open that notebook with the command \n",
    "\n",
    "    $jupyter notebook InitialSetup_FirstnameLastname.ipynb &"
   ]
  },
  {
   "cell_type": "markdown",
   "metadata": {
    "slideshow": {
     "slide_type": "slide"
    }
   },
   "source": [
    "## Working with Jupyter Notebooks  <a class=\"anchor\" id=\"four\"></a>\n",
    "\n",
    "Notebooks have 2 primary cell types: 'Markdown' and 'Code'.    The Markdown cells are basically just for you to read.  The Code cells are meant to be executed (perhaps after you have filled in some blanks).  \n",
    "\n",
    "To execute a cell in the notebook, type '**shift-return**'. If you see a * in the bracket left of the cell or a 'Busy' in the tab title, it means the command is in the process of running, and you need to wait for it to finish.\n",
    "\n",
    "The notebook is autosaved, so that when you return to a notebook, everything is the same as you left it. If you want to reset it, you can do “revert to checkpoint”.  If you save it yourself, you will create a checkpoint, and the original version will be unavailable.\n",
    "\n",
    "\n",
    "\n",
    "Here are some useful commands to get you started (# followed by text indicates a comment and not what you type)!\n",
    "\n",
    "    In [ ]: ?          # basic help function.  Pops open a sub-frame at the bottom of page.  \n",
    "                         Close with \"x\".\n",
    "    \n",
    "    In [ ]: %quickref  # Pops open a quick reference card\n",
    "    \n",
    "    In [ ]: ! \t       # spawning out to the operating system; \n",
    "                         e.g files=!ls will fill the variable files \n",
    "                         with a list of files in your directory.\n",
    "\n",
    "\n",
    "Jupyter also contains a number of [“magic” commands](https://ipython.org/ipython-doc/dev/interactive/magics.html).\n",
    "Two examples are\n",
    "\n",
    "    In [ ]: %matplotlib inline  # makes plots within the web browser instead of popping up a new window\n",
    "    \n",
    "    In [ ]: %whos               # lists the vectors, etc. that you have defined.\n",
    "\n",
    "Jupyter also has lots of [keyboard shortcuts](https://ipython.org/ipython-doc/1/interactive/notebook.html#keyboard-shortcuts) – the main one is shift-enter to run a cell."
   ]
  },
  {
   "cell_type": "markdown",
   "metadata": {
    "slideshow": {
     "slide_type": "slide"
    }
   },
   "source": [
    "## (Brief) Review of Python Basics  <a class=\"anchor\" id=\"five\"></a>\n",
    "\n",
    "To start with Python uses the following [numerical data types and operations](https://docs.python.org/2/library/stdtypes.html#boolean-operations-and-or-not)\n",
    "\n",
    "We will encounter three main types of collections of data:\n",
    "\n",
    "    Lists: a mutable array of data\n",
    "    Tuples: ordered, immutable list\n",
    "    Dictionaries: keyword/value lookup\n",
    "\n",
    "It is worth noting that python begins indexing at 0 and uses [row-major order](https://en.wikipedia.org/wiki/Row-major_order), which means that pairs of values are written as (y,x) instead of (x,y).  This actually makes sense when one is dealing with tables of data.\n",
    "\n",
    "\n",
    "Tuple\n",
    "\n",
    "    its most notable property is that it is immutable – after being defined, it cannot be changed\n",
    "    denoted by parentheses, e.g., x=(5.0,7.0,9.0,11.0)\n",
    "    to index, use square brackets, e.g., print(x[0])\n",
    "    can get part of one using :, e.g., try print(x[2:]) etc.\n",
    "\n",
    "List\n",
    "\n",
    "    in contrast to a tuple, it can be reassigned\n",
    "    denoted with brackets, e.g,. y=[5.0,7.0,9.0,11.0]\n",
    "    to index, also use square brackets, e.g., print(x[0])\n",
    "    can get part of one using :, e.g., try print(y[2:]) etc.\n",
    "\n",
    "Dictionary\n",
    "\n",
    "    assigns a value to a key, for example z={'a':2,'b':4,'c':6}, where a,b,c are the keywords.\n",
    "    the dictionary is indexed by the keyword, e.g., print(z['a'])\n",
    "    they can be quite complicated.\n",
    "    \n",
    "Here is a lot more on data structures: [https://docs.python.org/2/tutorial/datastructures.html](https://docs.python.org/2/tutorial/datastructures.html).\n",
    "\n",
    "---\n",
    "### Methods and Attributes\n",
    "\n",
    "Each type of data structure has associated “methods”. A method is like a little built-in function that can be run on a data structure.\n",
    "\n",
    "For example, open a new cell (or in a python terminal window) and do the following:\n",
    "\n",
    "```python\n",
    "v=[27.0,35.0,101.0,57.0]\n",
    "print(v)\n",
    "v.sort()\n",
    "print(v)\n",
    "```\n",
    "\n",
    "So v has now been replaced with the sorted v.\n",
    "\n",
    "The parentheses indicate that this is a \"method\", which is something that can (but doesn't have to) take *arguments*.  An \"attribute\" on the other hand is just a property.  E.g., if you have an object called `shape` and shape contains information like `area`, `length`, `width`, etc., then you access those values as\n",
    "\n",
    "```python\n",
    "print(shape.area)\n",
    "```\n",
    "\n",
    "Basic mathematical operations that can be applied to your data are found here: [https://docs.python.org/2/library/math.html](https://docs.python.org/2/library/math.html).\n",
    "\n",
    "OK, hopefully that is a refresher for everyone, so let's get going with more complicated stuff.\n",
    "If you need more of a refresher than that, see the links above."
   ]
  },
  {
   "cell_type": "markdown",
   "metadata": {
    "slideshow": {
     "slide_type": "slide"
    }
   },
   "source": [
    "## NumPy\n",
    "\n",
    "NumPy is short for Numerical Python. It is the foundational package for scientific computing in Python. It is a library which will allow us to work with data structures called **arrays** that are more efficient for storing amd manipulating data than other Python data structures (or C++ for that matter). \n",
    "\n",
    "For example, cut and paste this into a new cell, then type shift-enter to run it:\n",
    "\n",
    "```python\n",
    "import numpy as np\n",
    "xlist = [1,2,3]\n",
    "xarray = np.array(xlist)\n",
    "twice_xarray = 2*xarray\n",
    "print(twice_xarray)\n",
    "```\n",
    "\n",
    "This is far better than creating a for loop over the entries in `xlist` or even something fancier like a \"list comprehension\"\n",
    "```python\n",
    "   twice_xlist = [2*x for x in xlist]\n",
    "   print(twice_xlist)\n",
    "```\n",
    "Note the lack of commas in the array as compared to the list.\n",
    "\n",
    "To load the Numpy library type:  \n",
    "\n",
    "    In [ ]: import numpy as np\n",
    "    \n",
    "In fact, just plan on starting **every** notebook with this!    \n",
    "\n",
    "The basic unit for numpy is an [ndarray](https://docs.scipy.org/doc/numpy/reference/arrays.ndarray.html).  See the link for examples of how to define, index, slice, etc. the array.\n",
    "\n",
    "There are quite a few **methods** associated with numpy arrays.  Some useful ones include:\n",
    "\n",
    "|Method |\tProperty|\n",
    "|-------|-----------|\n",
    "|np.zeros(5,float) |\tyields a 5-element array of zeros of type float |\n",
    "|a=np.empty(4) |\tyields a 4-element empty array |\n",
    "|a.fill(5.5) |\tfills that array with 5.5 for all elements |\n",
    "|np.arange(5) |\tyields an integer array of length 5 with increasing values | \n",
    "|b=np.random.normal(10,3,5) |\tyields a 5 element array of normally distributed numbers with mean 10 and variance 3 |\n",
    "|mask=b > 9 |\tcreates a boolean array determing which numbers are greater than 9 |\n",
    "|print(b[mask]) |\tprints the ones with values > 9 |\n",
    "|b[mask]=0 | sets the ones > 9 to zero |\n",
    "\n",
    "Arrays can be multidimensional, e.g., ```c=np.random.normal(10,3,(2,4))```, creates a 2 x 4 array with normally distributed numbers with mean 10 and variance 3.\n",
    "\n",
    "More methods for multidimensional arrays:\n",
    "\n",
    "|Method |\tProperty|\n",
    "|-------|-----------|\n",
    "|d=c[0,:] |\tgrabs the first (0th) row of c. |\n",
    "|d=c[1,:] |\tgrabs the second (1st) row of c. |\n",
    "|d=c[:,0] |\tgrabs the first column of c. |\n",
    "|c.dtype |\tdata type |\n",
    "|c.size |\ttotal number of elements |\n",
    "|c.ndim |\tnumber of dimensions |\n",
    "|c.shape |\tshape or dimensionality |\n",
    "|c.nbytes |\tmemory used (bytes) |\n",
    "|c.min() |\tgives the minimum of c |\n",
    "|c.max() |\tgives the maximum of c |\n",
    "|c.sum() |\tsum of all elements |\n",
    "|c.mean() |\tmean of all elements |\n",
    "|c.std() |\tstandard deviation of all elements |\n",
    "|c.sum(axis=0) | will present sum along the 0th axis (column direction). The result will have reduced dimensionality |\n",
    "\n",
    "You can also operate with arrays, for example, adding them together, multiplying them, multiplying or adding a constant. There are, however, [**broadcasting**](https://numpy.org/doc/stable/user/basics.broadcasting.html) rules so that you need to make sure you know what you are doing when dealing with arrays of different sizes."
   ]
  },
  {
   "cell_type": "markdown",
   "metadata": {
    "slideshow": {
     "slide_type": "slide"
    }
   },
   "source": [
    "## SciPy\n",
    "\n",
    "\n",
    "[SciPy](http://docs.scipy.org/doc/scipy/reference/) is an \"open-source software for mathematics, science, and engineering\".  We 'import' it the same way that we import numpy:\n",
    "\n",
    "\n",
    "    In [ ]: import scipy as sp\n",
    "\n",
    "\n",
    "SciPy is a suite of tools for data analysis including integration, statistical functions, interpolation.  It is built on top of Numpy. Where Numpy is intended for array *manipulation*, Scipy is intended for *analysis*. This is where the useful tools that are built into IDL (such as tsum, interpol, etc) will be.  It may be worth looking at the users guide to get an idea of the kinds of functions are available.   N.B.  For some packages you need to import more than just the main scipy package.  So, for example to see what is available in the scipy.integrate package, do the following:\n",
    "\n",
    "```\n",
    "import scipy.integrate\n",
    "scipy.integrate?\n",
    "```\n",
    "\n"
   ]
  },
  {
   "cell_type": "markdown",
   "metadata": {
    "slideshow": {
     "slide_type": "slide"
    }
   },
   "source": [
    "## Pandas\n",
    "\n",
    "[Pandas](https://pandas.pydata.org/) is an \"is a fast, powerful, flexible and easy to use open source data analysis and manipulation tool,\n",
    "built on top of the Python programming language.\". \n",
    "\n",
    "We 'import' it the same way that we import numpy:\n",
    "\n",
    "\n",
    "    In [ ]: import pandas as pd\n",
    "\n",
    "Pandas is a library designed with manipulating numerical tables and time series in mind and is a very useful tool for data science.   We will be making use of Pandas [DataFrames](https://pandas.pydata.org/pandas-docs/stable/reference/api/pandas.DataFrame.html) in the course of this class. You can get some experience using Pandas either with [DataCamp](https://www.datacamp.com/community/tutorials/pandas-tutorial-dataframe-python) or with [Chapter 3 of the Python Data Science Handbook by Jake VanderPlas](https://jakevdp.github.io/PythonDataScienceHandbook/03.00-introduction-to-pandas.html).\n",
    "\n",
    "```\n",
    "import pandas as pd\n",
    "pd?\n",
    "```"
   ]
  },
  {
   "cell_type": "markdown",
   "metadata": {
    "slideshow": {
     "slide_type": "slide"
    }
   },
   "source": [
    "## Scikit-learn\n",
    "\n",
    "The [Scikit-learn library](http://scikit-learn.org/) forms the core of computing tools that we will use for this class.  It probably needs its own introductory tutorial as both the input and output may not be quite what you would have expected.    You might want to spend some time going through their quick start guide, user's guide and tutorials here: [http://scikit-learn.org/stable/documentation.html](http://scikit-learn.org/stable/documentation.html).\n"
   ]
  },
  {
   "cell_type": "markdown",
   "metadata": {
    "slideshow": {
     "slide_type": "slide"
    }
   },
   "source": [
    "## Intro to Everything\n",
    "\n",
    "Lastly, here is a tutorial on the whole scientific Python \"ecosystem\": [www.scipy-lectures.org](http://www.scipy-lectures.org/)"
   ]
  },
  {
   "cell_type": "markdown",
   "metadata": {
    "slideshow": {
     "slide_type": "slide"
    }
   },
   "source": [
    "## Testing, Testing, 1, 2, 3\n",
    "\n",
    "OK, let's make sure that your software is all installed and that we can use `git`."
   ]
  },
  {
   "cell_type": "markdown",
   "metadata": {
    "slideshow": {
     "slide_type": "slide"
    }
   },
   "source": [
    "## Matplotlib Example\n",
    "\n",
    "It is generally useful to be able to visualize your data.  We will do that using the \n",
    "[matplotlib](http://matplotlib.org/) library.   Most of you should be familiar with it already, but we will likely be making some plots that are more complex than you are used to.  One nice resource is this [thumbnail gallery](http://matplotlib.org/gallery.html) which you can use to figure out how to make a new plot.\n",
    "\n",
    "Let's make sure that everything is working by making a simple plot\n"
   ]
  },
  {
   "cell_type": "code",
   "execution_count": 2,
   "metadata": {
    "slideshow": {
     "slide_type": "slide"
    }
   },
   "outputs": [
    {
     "data": {
      "image/png": "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\n",
      "text/plain": [
       "<Figure size 432x288 with 1 Axes>"
      ]
     },
     "metadata": {
      "needs_background": "light"
     },
     "output_type": "display_data"
    }
   ],
   "source": [
    "# magic command to make the figure pop up below instead of in a new window\n",
    "%matplotlib inline \n",
    "\n",
    "# invoke pyplot in matplotlib, give it an alias\n",
    "import matplotlib.pyplot as plt  \n",
    "import numpy as np\n",
    "\n",
    "x = np.linspace(0, 3*np.pi, 300)\n",
    "y = np.sin(x)\n",
    "plt.plot(x, y)\n",
    "y2 = np.sin(x**2)\n",
    "plt.plot(x, y, label=r'$\\sin(x)$')\n",
    "plt.plot(x, y2, label=r'$\\sin(x^2)$')\n",
    "plt.title('Some functions')\n",
    "plt.xlabel('x')\n",
    "plt.ylabel('y')\n",
    "plt.grid()\n",
    "plt.legend();"
   ]
  },
  {
   "cell_type": "markdown",
   "metadata": {
    "slideshow": {
     "slide_type": "slide"
    }
   },
   "source": [
    "You can change both the [marker/line styles](http://matplotlib.org/examples/lines_bars_and_markers/) and [colors](http://matplotlib.org/api/colors_api.html), but I highly recommend the use of the colors in the [palettable library](https://jiffyclub.github.io/palettable/), where you can see the colors at [http://colorbrewer2.org/](http://colorbrewer2.org/).\n",
    "\n",
    "Try making some changes to the code above and see what happens."
   ]
  },
  {
   "cell_type": "markdown",
   "metadata": {
    "slideshow": {
     "slide_type": "slide"
    }
   },
   "source": [
    "## AstroML Example\n",
    "\n",
    "Now let's download and run one of the astroML examples inside the Jupyter notebook."
   ]
  },
  {
   "cell_type": "code",
   "execution_count": 3,
   "metadata": {
    "slideshow": {
     "slide_type": "slide"
    }
   },
   "outputs": [
    {
     "name": "stderr",
     "output_type": "stream",
     "text": [
      "  % Total    % Received % Xferd  Average Speed   Time    Time     Time  Current\n",
      "                                 Dload  Upload   Total   Spent    Left  Speed\n",
      "\n",
      "  0     0    0     0    0     0      0      0 --:--:-- --:--:-- --:--:--     0\n",
      "100  3049  100  3049    0     0  24007      0 --:--:-- --:--:-- --:--:-- 24007\n"
     ]
    }
   ],
   "source": [
    "! curl -O https://raw.githubusercontent.com/astroML/astroML/master/examples/datasets/plot_SDSS_SSPP.py"
   ]
  },
  {
   "cell_type": "code",
   "execution_count": 4,
   "metadata": {
    "slideshow": {
     "slide_type": "slide"
    }
   },
   "outputs": [
    {
     "name": "stderr",
     "output_type": "stream",
     "text": [
      "C:\\Users\\Daniel\\anaconda3\\lib\\site-packages\\astroML\\stats\\_binned_statistic.py:321: RuntimeWarning: invalid value encountered in true_divide\n",
      "  result[a] /= flatcount\n",
      "C:\\Users\\Daniel\\git\\PHYS_440_540\\notebooks\\plot_SDSS_SSPP.py:40: MatplotlibDeprecationWarning: You are modifying the state of a globally registered colormap. In future versions, you will not be able to modify a registered colormap in-place. To remove this warning, you can make a copy of the colormap first. cmap = copy.copy(mpl.cm.get_cmap(\"jet\"))\n",
      "  cmap.set_bad('w', 1.)\n",
      "C:\\Users\\Daniel\\git\\PHYS_440_540\\notebooks\\plot_SDSS_SSPP.py:43: MatplotlibDeprecationWarning: You are modifying the state of a globally registered colormap. In future versions, you will not be able to modify a registered colormap in-place. To remove this warning, you can make a copy of the colormap first. cmap = copy.copy(mpl.cm.get_cmap(\"jet\"))\n",
      "  cmap_multicolor.set_bad('w', 1.)\n",
      "C:\\Users\\Daniel\\git\\PHYS_440_540\\notebooks\\plot_SDSS_SSPP.py:53: RuntimeWarning: divide by zero encountered in log10\n",
      "  plt.imshow(np.log10(N.T), origin='lower',\n",
      "C:\\Users\\Daniel\\git\\PHYS_440_540\\notebooks\\plot_SDSS_SSPP.py:84: RuntimeWarning: divide by zero encountered in log10\n",
      "  plt.contour(np.log10(N.T), levels, colors='k', linewidths=1,\n"
     ]
    },
    {
     "data": {
      "image/png": "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\n",
      "text/plain": [
       "<Figure size 576x288 with 4 Axes>"
      ]
     },
     "metadata": {
      "needs_background": "light"
     },
     "output_type": "display_data"
    },
    {
     "data": {
      "text/plain": [
       "<Figure size 432x288 with 0 Axes>"
      ]
     },
     "metadata": {},
     "output_type": "display_data"
    }
   ],
   "source": [
    "%matplotlib inline\n",
    "%run ./plot_SDSS_SSPP.py"
   ]
  },
  {
   "cell_type": "markdown",
   "metadata": {
    "slideshow": {
     "slide_type": "slide"
    }
   },
   "source": [
    "## Git Example  <a class=\"anchor\" id=\"six\"></a>\n",
    "\n",
    "Lastly, let's practice some git!\n",
    "\n",
    "1. create a new repository on github, with a README file. Name it `PHYS_440_540_test`.\n",
    "\n",
    "2. clone it using:\n",
    "```bash\n",
    "cd ~/git\n",
    "git clone https://github.com/YOURUSERNAME/PHYS_440_540_test\n",
    "```\n",
    "3. start Jupyter in the cloned directory\n",
    "```\n",
    "cd PHYS_440_540_test\n",
    "jupyter notebook &\n",
    "```\n",
    "4. create a new notebook. Name it `hello.ipynb` (with File:Rename), and add a cell with the following piece of code:\n",
    "```python\n",
    "print \"Hello World!\"\n",
    "```\n",
    "5. add the notebook to your git repository and commit by running (in the terminal window) the following:\n",
    "```bash\n",
    "git add hello.ipynb\n",
    "git commit -m \"Added hello.ipynb to repository.\"\n",
    "```\n",
    "6. see what happened:\n",
    "```bash\n",
    "git log\n",
    "```\n",
    "7. make another change in the Jupyter notebook. For example, add another cell (\"+\" icon on the toolbar) with the following:\n",
    "```python\n",
    "x = 2+2\n",
    "print(x)\n",
    "```\n",
    "8. see what happened\n",
    "```bash\n",
    "git status\n",
    "```\n",
    "9. commit changed files\n",
    "```\n",
    "git commit -am \"Updated hello.ipynb with complex mathematics.\"\n",
    "```\n",
    "10. \"push\" the changes to github\n",
    "```\n",
    "git push\n",
    "```\n",
    "11. go browse the result on github"
   ]
  },
  {
   "cell_type": "markdown",
   "metadata": {
    "slideshow": {
     "slide_type": "slide"
    }
   },
   "source": [
    "## Class Participation <a class=\"anchor\" id=\"seven\"></a>\n",
    "\n",
    "To get full credit for class participation, you will be submitting this notebook (and that for every other lecture) with all of the cells filled in (each lecture will have a number of cells with blanks to provide a hands-on aspect to the course).\n",
    "\n",
    "The instructions for doing this are the first assignment for [Homework 1](https://github.com/gtrichards/PHYS_440_540/blob/master/homeworks/PHYS_440_540_F22_HW1.ipynb), which you can also find in the /homeworks folder in notebook PHYS_440_540_F22_HW1.ipynb.  The other homeworks will be similarly named and in the same place."
   ]
  },
  {
   "cell_type": "markdown",
   "metadata": {
    "slideshow": {
     "slide_type": "slide"
    }
   },
   "source": [
    "## Summary\n",
    "\n",
    "At this point, all of you should have:\n",
    "* A `GitHub` account and a basic understanding of `git`\n",
    "* Installed the Anaconda Python Distribution with Python 3\n",
    "* Installed AstroML\n",
    "* The ability to create and run Jupyter notebooks\n",
    "* The ability to submit completed notebooks for class participation credit (once you have done Homework 1).\n",
    "\n",
    "Now we're ready to do some astro-statistics!"
   ]
  },
  {
   "cell_type": "raw",
   "metadata": {
    "slideshow": {
     "slide_type": "skip"
    }
   },
   "source": [
    "For GTR: To use RISE:\n",
    "Set scroll to true at /Users/gtr/opt/anaconda3/pkgs/rise-5.7.1-py39h2804cbe_0/share/jupyter/nbextensions/rise/main.js\n",
    "\n",
    "Install with\n",
    "conda install -c conda-forge rise"
   ]
  }
 ],
 "metadata": {
  "anaconda-cloud": {},
  "celltoolbar": "Slideshow",
  "kernelspec": {
   "display_name": "Python 3",
   "language": "python",
   "name": "python3"
  },
  "language_info": {
   "codemirror_mode": {
    "name": "ipython",
    "version": 3
   },
   "file_extension": ".py",
   "mimetype": "text/x-python",
   "name": "python",
   "nbconvert_exporter": "python",
   "pygments_lexer": "ipython3",
   "version": "3.8.5"
  }
 },
 "nbformat": 4,
 "nbformat_minor": 4
}
